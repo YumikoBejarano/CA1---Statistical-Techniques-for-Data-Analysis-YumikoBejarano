{
 "cells": [
  {
   "cell_type": "markdown",
   "id": "2dea6e5b-5b51-496c-98c1-a124a5f8dfab",
   "metadata": {},
   "source": [
    "# <center> CCT College Dublin </center>\r\n",
    "\r\n",
    "## <center> Assessment Cover Page</center>\r\n",
    "\r\n",
    "<p style=\"font-size:larger; text-align:center; color:red;\"><em>\r\n",
    "To be provided separately as a word doc for students to include with every submission\r\n",
    "</em></p>\r\n",
    "\r\n",
    "<br><br><br>\r\n",
    "---\r\n",
    "\r\n",
    "<span style=\"font-size:larger;\">\r\n",
    "\r\n",
    "**Module Title:**&nbspStatistical Techniques for Data Analysisa Preparation\r\n",
    "**Assessment Title:**&nbsp;& Statistical Techniques p;David McQuaid\r\n",
    "**Student Full Name:**&nbsp;&nbsp;&nbsp;Yumiko Maria Bejarano Azogue \r\n",
    "**Student Number:**&nbsp;&nbsp;&nbsp;2024144\r\n",
    "**Assessment Due Date:**21st April 2024bsp;5th April 2024 23:59\r\n",
    "**Date of Submission:*21st April 2024 2024bsp;&nbsp;5/04/2024\r\n",
    "</span> \r\n",
    "\r\n",
    "<br><br><br>\r\n",
    "\r\n",
    "---\r\n",
    "\r\n",
    "#### Declaration \r\n",
    "\r\n",
    "```\r\n",
    "By submitting this assessment, I confirm that I have read the CCT policy on Academic Misconduct and understand the implications of submitting work that is not my own or does not appropriately reference material taken from a third party or other source. I declare it to be my own work and that all material from third parties has been appropriately referenced. I further confirm that this work has not previously been submitted for assessment by myself or someone else in CCT College Dublin or any other higher education institution.\r\n",
    "```\r\n",
    "<br><br><br>\r\n"
   ]
  },
  {
   "cell_type": "markdown",
   "id": "4893e07c-569d-48d0-8a74-780038546052",
   "metadata": {},
   "source": [
    "# Observing and describing data"
   ]
  },
  {
   "cell_type": "markdown",
   "id": "da888b52-e52a-4251-a031-206e8f592dab",
   "metadata": {},
   "source": [
    "## Characterisation of the data set:"
   ]
  },
  {
   "cell_type": "code",
   "execution_count": 1,
   "id": "80ee05db-387d-4581-98a1-03fafb3499e6",
   "metadata": {},
   "outputs": [],
   "source": [
    "#Libraries and summary\n",
    "import pandas as pd\n",
    "import numpy as np\n"
   ]
  },
  {
   "cell_type": "code",
   "execution_count": 2,
   "id": "c02e0a2c-6563-499e-9d58-f20be8639669",
   "metadata": {},
   "outputs": [],
   "source": [
    "# Import thi slibrary to suppress the warnings\n",
    "import warnings\n",
    "# The object 'warnings' is used to call the method 'filterwarnings' and ignore the warnings\n",
    "warnings.filterwarnings('ignore')  "
   ]
  },
  {
   "cell_type": "code",
   "execution_count": 3,
   "id": "9e8826bf-aec9-4d9f-bbdb-ecf9dbc8b074",
   "metadata": {},
   "outputs": [],
   "source": [
    "# Loading the data into the data frame\n",
    "df = pd.read_csv(\"DEA04.20240415011714.csv\") # df=dataframe\n"
   ]
  },
  {
   "cell_type": "markdown",
   "id": "d9adde84-209a-46eb-9080-0bccf7e0a57c",
   "metadata": {},
   "source": [
    "# Data Description: \n",
    "Begin by describing the dataset, including its size, structure, and variables. This involves examining the types of variables (numeric or categorical), their distributions, and any missing or erroneous values."
   ]
  },
  {
   "cell_type": "code",
   "execution_count": 4,
   "id": "c9bd6a9d-bde5-4ea6-863f-df9ae37931c2",
   "metadata": {},
   "outputs": [
    {
     "data": {
      "text/html": [
       "<div>\n",
       "<style scoped>\n",
       "    .dataframe tbody tr th:only-of-type {\n",
       "        vertical-align: middle;\n",
       "    }\n",
       "\n",
       "    .dataframe tbody tr th {\n",
       "        vertical-align: top;\n",
       "    }\n",
       "\n",
       "    .dataframe thead th {\n",
       "        text-align: right;\n",
       "    }\n",
       "</style>\n",
       "<table border=\"1\" class=\"dataframe\">\n",
       "  <thead>\n",
       "    <tr style=\"text-align: right;\">\n",
       "      <th></th>\n",
       "      <th>STATISTIC</th>\n",
       "      <th>Statistic Label</th>\n",
       "      <th>TLIST(A1)</th>\n",
       "      <th>Year</th>\n",
       "      <th>C02199V02655</th>\n",
       "      <th>Sex</th>\n",
       "      <th>C02076V02508</th>\n",
       "      <th>Age Group</th>\n",
       "      <th>UNIT</th>\n",
       "      <th>VALUE</th>\n",
       "    </tr>\n",
       "  </thead>\n",
       "  <tbody>\n",
       "    <tr>\n",
       "      <th>0</th>\n",
       "      <td>DEA04C01</td>\n",
       "      <td>Mean Annual Earnings</td>\n",
       "      <td>2011</td>\n",
       "      <td>2011</td>\n",
       "      <td>1</td>\n",
       "      <td>Male</td>\n",
       "      <td>310</td>\n",
       "      <td>15 - 24 years</td>\n",
       "      <td>Euro</td>\n",
       "      <td>18900.0</td>\n",
       "    </tr>\n",
       "    <tr>\n",
       "      <th>1</th>\n",
       "      <td>DEA04C01</td>\n",
       "      <td>Mean Annual Earnings</td>\n",
       "      <td>2011</td>\n",
       "      <td>2011</td>\n",
       "      <td>1</td>\n",
       "      <td>Male</td>\n",
       "      <td>320</td>\n",
       "      <td>15 years and over</td>\n",
       "      <td>Euro</td>\n",
       "      <td>45781.0</td>\n",
       "    </tr>\n",
       "    <tr>\n",
       "      <th>2</th>\n",
       "      <td>DEA04C01</td>\n",
       "      <td>Mean Annual Earnings</td>\n",
       "      <td>2011</td>\n",
       "      <td>2011</td>\n",
       "      <td>1</td>\n",
       "      <td>Male</td>\n",
       "      <td>410</td>\n",
       "      <td>25 - 29 years</td>\n",
       "      <td>Euro</td>\n",
       "      <td>31135.0</td>\n",
       "    </tr>\n",
       "    <tr>\n",
       "      <th>3</th>\n",
       "      <td>DEA04C01</td>\n",
       "      <td>Mean Annual Earnings</td>\n",
       "      <td>2011</td>\n",
       "      <td>2011</td>\n",
       "      <td>1</td>\n",
       "      <td>Male</td>\n",
       "      <td>445</td>\n",
       "      <td>30 - 39 years</td>\n",
       "      <td>Euro</td>\n",
       "      <td>44439.0</td>\n",
       "    </tr>\n",
       "    <tr>\n",
       "      <th>4</th>\n",
       "      <td>DEA04C01</td>\n",
       "      <td>Mean Annual Earnings</td>\n",
       "      <td>2011</td>\n",
       "      <td>2011</td>\n",
       "      <td>1</td>\n",
       "      <td>Male</td>\n",
       "      <td>480</td>\n",
       "      <td>40 - 49 years</td>\n",
       "      <td>Euro</td>\n",
       "      <td>55690.0</td>\n",
       "    </tr>\n",
       "  </tbody>\n",
       "</table>\n",
       "</div>"
      ],
      "text/plain": [
       "  STATISTIC       Statistic Label  TLIST(A1)  Year  C02199V02655   Sex  \\\n",
       "0  DEA04C01  Mean Annual Earnings       2011  2011             1  Male   \n",
       "1  DEA04C01  Mean Annual Earnings       2011  2011             1  Male   \n",
       "2  DEA04C01  Mean Annual Earnings       2011  2011             1  Male   \n",
       "3  DEA04C01  Mean Annual Earnings       2011  2011             1  Male   \n",
       "4  DEA04C01  Mean Annual Earnings       2011  2011             1  Male   \n",
       "\n",
       "   C02076V02508          Age Group  UNIT    VALUE  \n",
       "0           310      15 - 24 years  Euro  18900.0  \n",
       "1           320  15 years and over  Euro  45781.0  \n",
       "2           410      25 - 29 years  Euro  31135.0  \n",
       "3           445      30 - 39 years  Euro  44439.0  \n",
       "4           480      40 - 49 years  Euro  55690.0  "
      ]
     },
     "execution_count": 4,
     "metadata": {},
     "output_type": "execute_result"
    }
   ],
   "source": [
    "# To display the top 5 rows\n",
    "df.head()"
   ]
  },
  {
   "cell_type": "code",
   "execution_count": 5,
   "id": "0d952c8c-a23d-4bb5-aaab-4a486cfdbecb",
   "metadata": {},
   "outputs": [
    {
     "data": {
      "text/html": [
       "<div>\n",
       "<style scoped>\n",
       "    .dataframe tbody tr th:only-of-type {\n",
       "        vertical-align: middle;\n",
       "    }\n",
       "\n",
       "    .dataframe tbody tr th {\n",
       "        vertical-align: top;\n",
       "    }\n",
       "\n",
       "    .dataframe thead th {\n",
       "        text-align: right;\n",
       "    }\n",
       "</style>\n",
       "<table border=\"1\" class=\"dataframe\">\n",
       "  <thead>\n",
       "    <tr style=\"text-align: right;\">\n",
       "      <th></th>\n",
       "      <th>STATISTIC</th>\n",
       "      <th>Statistic Label</th>\n",
       "      <th>TLIST(A1)</th>\n",
       "      <th>Year</th>\n",
       "      <th>C02199V02655</th>\n",
       "      <th>Sex</th>\n",
       "      <th>C02076V02508</th>\n",
       "      <th>Age Group</th>\n",
       "      <th>UNIT</th>\n",
       "      <th>VALUE</th>\n",
       "    </tr>\n",
       "  </thead>\n",
       "  <tbody>\n",
       "    <tr>\n",
       "      <th>499</th>\n",
       "      <td>DEA04C03</td>\n",
       "      <td>Percentage of Employments</td>\n",
       "      <td>2022</td>\n",
       "      <td>2022</td>\n",
       "      <td>2</td>\n",
       "      <td>Female</td>\n",
       "      <td>410</td>\n",
       "      <td>25 - 29 years</td>\n",
       "      <td>%</td>\n",
       "      <td>48.3</td>\n",
       "    </tr>\n",
       "    <tr>\n",
       "      <th>500</th>\n",
       "      <td>DEA04C03</td>\n",
       "      <td>Percentage of Employments</td>\n",
       "      <td>2022</td>\n",
       "      <td>2022</td>\n",
       "      <td>2</td>\n",
       "      <td>Female</td>\n",
       "      <td>445</td>\n",
       "      <td>30 - 39 years</td>\n",
       "      <td>%</td>\n",
       "      <td>47.4</td>\n",
       "    </tr>\n",
       "    <tr>\n",
       "      <th>501</th>\n",
       "      <td>DEA04C03</td>\n",
       "      <td>Percentage of Employments</td>\n",
       "      <td>2022</td>\n",
       "      <td>2022</td>\n",
       "      <td>2</td>\n",
       "      <td>Female</td>\n",
       "      <td>480</td>\n",
       "      <td>40 - 49 years</td>\n",
       "      <td>%</td>\n",
       "      <td>49.1</td>\n",
       "    </tr>\n",
       "    <tr>\n",
       "      <th>502</th>\n",
       "      <td>DEA04C03</td>\n",
       "      <td>Percentage of Employments</td>\n",
       "      <td>2022</td>\n",
       "      <td>2022</td>\n",
       "      <td>2</td>\n",
       "      <td>Female</td>\n",
       "      <td>520</td>\n",
       "      <td>50 - 59 years</td>\n",
       "      <td>%</td>\n",
       "      <td>49.8</td>\n",
       "    </tr>\n",
       "    <tr>\n",
       "      <th>503</th>\n",
       "      <td>DEA04C03</td>\n",
       "      <td>Percentage of Employments</td>\n",
       "      <td>2022</td>\n",
       "      <td>2022</td>\n",
       "      <td>2</td>\n",
       "      <td>Female</td>\n",
       "      <td>560</td>\n",
       "      <td>60 years and over</td>\n",
       "      <td>%</td>\n",
       "      <td>48.2</td>\n",
       "    </tr>\n",
       "  </tbody>\n",
       "</table>\n",
       "</div>"
      ],
      "text/plain": [
       "    STATISTIC            Statistic Label  TLIST(A1)  Year  C02199V02655  \\\n",
       "499  DEA04C03  Percentage of Employments       2022  2022             2   \n",
       "500  DEA04C03  Percentage of Employments       2022  2022             2   \n",
       "501  DEA04C03  Percentage of Employments       2022  2022             2   \n",
       "502  DEA04C03  Percentage of Employments       2022  2022             2   \n",
       "503  DEA04C03  Percentage of Employments       2022  2022             2   \n",
       "\n",
       "        Sex  C02076V02508          Age Group UNIT  VALUE  \n",
       "499  Female           410      25 - 29 years    %   48.3  \n",
       "500  Female           445      30 - 39 years    %   47.4  \n",
       "501  Female           480      40 - 49 years    %   49.1  \n",
       "502  Female           520      50 - 59 years    %   49.8  \n",
       "503  Female           560  60 years and over    %   48.2  "
      ]
     },
     "execution_count": 5,
     "metadata": {},
     "output_type": "execute_result"
    }
   ],
   "source": [
    "# To display the bottom 5 rows\n",
    "df.tail() "
   ]
  },
  {
   "cell_type": "code",
   "execution_count": 6,
   "id": "29b37a0a-b614-4cf7-b7b7-cd71fd353b70",
   "metadata": {},
   "outputs": [
    {
     "data": {
      "text/plain": [
       "(504, 10)"
      ]
     },
     "execution_count": 6,
     "metadata": {},
     "output_type": "execute_result"
    }
   ],
   "source": [
    "# Print the dataset size\n",
    "print(\"Dataset Size:\", df.shape)"
   ]
  },
  {
   "cell_type": "code",
   "execution_count": 7,
   "id": "1f158773-a717-4e48-963c-afcee6f89fb4",
   "metadata": {},
   "outputs": [
    {
     "name": "stdout",
     "output_type": "stream",
     "text": [
      "Datatype in Each Column\n",
      "\n"
     ]
    },
    {
     "data": {
      "text/html": [
       "<div>\n",
       "<style scoped>\n",
       "    .dataframe tbody tr th:only-of-type {\n",
       "        vertical-align: middle;\n",
       "    }\n",
       "\n",
       "    .dataframe tbody tr th {\n",
       "        vertical-align: top;\n",
       "    }\n",
       "\n",
       "    .dataframe thead th {\n",
       "        text-align: right;\n",
       "    }\n",
       "</style>\n",
       "<table border=\"1\" class=\"dataframe\">\n",
       "  <thead>\n",
       "    <tr style=\"text-align: right;\">\n",
       "      <th></th>\n",
       "      <th>Datatype</th>\n",
       "    </tr>\n",
       "    <tr>\n",
       "      <th>Column_Name</th>\n",
       "      <th></th>\n",
       "    </tr>\n",
       "  </thead>\n",
       "  <tbody>\n",
       "    <tr>\n",
       "      <th>STATISTIC</th>\n",
       "      <td>object</td>\n",
       "    </tr>\n",
       "    <tr>\n",
       "      <th>Statistic Label</th>\n",
       "      <td>object</td>\n",
       "    </tr>\n",
       "    <tr>\n",
       "      <th>TLIST(A1)</th>\n",
       "      <td>int64</td>\n",
       "    </tr>\n",
       "    <tr>\n",
       "      <th>Year</th>\n",
       "      <td>int64</td>\n",
       "    </tr>\n",
       "    <tr>\n",
       "      <th>C02199V02655</th>\n",
       "      <td>int64</td>\n",
       "    </tr>\n",
       "    <tr>\n",
       "      <th>Sex</th>\n",
       "      <td>object</td>\n",
       "    </tr>\n",
       "    <tr>\n",
       "      <th>C02076V02508</th>\n",
       "      <td>int64</td>\n",
       "    </tr>\n",
       "    <tr>\n",
       "      <th>Age Group</th>\n",
       "      <td>object</td>\n",
       "    </tr>\n",
       "    <tr>\n",
       "      <th>UNIT</th>\n",
       "      <td>object</td>\n",
       "    </tr>\n",
       "    <tr>\n",
       "      <th>VALUE</th>\n",
       "      <td>float64</td>\n",
       "    </tr>\n",
       "  </tbody>\n",
       "</table>\n",
       "</div>"
      ],
      "text/plain": [
       "                Datatype\n",
       "Column_Name             \n",
       "STATISTIC         object\n",
       "Statistic Label   object\n",
       "TLIST(A1)          int64\n",
       "Year               int64\n",
       "C02199V02655       int64\n",
       "Sex               object\n",
       "C02076V02508       int64\n",
       "Age Group         object\n",
       "UNIT              object\n",
       "VALUE            float64"
      ]
     },
     "execution_count": 7,
     "metadata": {},
     "output_type": "execute_result"
    }
   ],
   "source": [
    "# Print the data structure (data types of columns)\n",
    "print('Datatype in Each Column\\n')\n",
    "pd.DataFrame(df.dtypes, columns=['Datatype']).rename_axis(\"Column_Name\")"
   ]
  },
  {
   "cell_type": "code",
   "execution_count": 8,
   "id": "3bcbe51d-b6f1-44b4-ad7b-868848528e4a",
   "metadata": {},
   "outputs": [
    {
     "name": "stdout",
     "output_type": "stream",
     "text": [
      "\n",
      "Information about the dataframe:\n",
      "<class 'pandas.core.frame.DataFrame'>\n",
      "RangeIndex: 504 entries, 0 to 503\n",
      "Data columns (total 10 columns):\n",
      " #   Column           Non-Null Count  Dtype  \n",
      "---  ------           --------------  -----  \n",
      " 0   STATISTIC        504 non-null    object \n",
      " 1   Statistic Label  504 non-null    object \n",
      " 2   TLIST(A1)        504 non-null    int64  \n",
      " 3   Year             504 non-null    int64  \n",
      " 4   C02199V02655     504 non-null    int64  \n",
      " 5   Sex              504 non-null    object \n",
      " 6   C02076V02508     504 non-null    int64  \n",
      " 7   Age Group        504 non-null    object \n",
      " 8   UNIT             504 non-null    object \n",
      " 9   VALUE            504 non-null    float64\n",
      "dtypes: float64(1), int64(4), object(5)\n",
      "memory usage: 39.5+ KB\n"
     ]
    }
   ],
   "source": [
    "# Information about the dataframe\n",
    "print(\"\\nInformation about the dataframe:\")\n",
    "df.info()\n"
   ]
  },
  {
   "cell_type": "code",
   "execution_count": 9,
   "id": "5569c077-7698-4170-a99d-42d4dc6c6096",
   "metadata": {},
   "outputs": [
    {
     "data": {
      "text/plain": [
       "STATISTIC            3\n",
       "Statistic Label      3\n",
       "TLIST(A1)           12\n",
       "Year                12\n",
       "C02199V02655         2\n",
       "Sex                  2\n",
       "C02076V02508         7\n",
       "Age Group            7\n",
       "UNIT                 2\n",
       "VALUE              390\n",
       "dtype: int64"
      ]
     },
     "execution_count": 9,
     "metadata": {},
     "output_type": "execute_result"
    }
   ],
   "source": [
    "df.nunique()"
   ]
  },
  {
   "cell_type": "code",
   "execution_count": 13,
   "id": "52554d4d-6799-4468-a285-649f0ae30b44",
   "metadata": {},
   "outputs": [
    {
     "data": {
      "text/html": [
       "<div>\n",
       "<style scoped>\n",
       "    .dataframe tbody tr th:only-of-type {\n",
       "        vertical-align: middle;\n",
       "    }\n",
       "\n",
       "    .dataframe tbody tr th {\n",
       "        vertical-align: top;\n",
       "    }\n",
       "\n",
       "    .dataframe thead th {\n",
       "        text-align: right;\n",
       "    }\n",
       "</style>\n",
       "<table border=\"1\" class=\"dataframe\">\n",
       "  <thead>\n",
       "    <tr style=\"text-align: right;\">\n",
       "      <th></th>\n",
       "      <th>count</th>\n",
       "      <th>mean</th>\n",
       "      <th>std</th>\n",
       "      <th>min</th>\n",
       "      <th>25%</th>\n",
       "      <th>50%</th>\n",
       "      <th>75%</th>\n",
       "      <th>max</th>\n",
       "    </tr>\n",
       "  </thead>\n",
       "  <tbody>\n",
       "    <tr>\n",
       "      <th>TLIST(A1)</th>\n",
       "      <td>504.0</td>\n",
       "      <td>2016.500000</td>\n",
       "      <td>3.455482</td>\n",
       "      <td>2011.0</td>\n",
       "      <td>2013.75</td>\n",
       "      <td>2016.5</td>\n",
       "      <td>2019.25</td>\n",
       "      <td>2022.0</td>\n",
       "    </tr>\n",
       "    <tr>\n",
       "      <th>Year</th>\n",
       "      <td>504.0</td>\n",
       "      <td>2016.500000</td>\n",
       "      <td>3.455482</td>\n",
       "      <td>2011.0</td>\n",
       "      <td>2013.75</td>\n",
       "      <td>2016.5</td>\n",
       "      <td>2019.25</td>\n",
       "      <td>2022.0</td>\n",
       "    </tr>\n",
       "    <tr>\n",
       "      <th>C02199V02655</th>\n",
       "      <td>504.0</td>\n",
       "      <td>1.500000</td>\n",
       "      <td>0.500497</td>\n",
       "      <td>1.0</td>\n",
       "      <td>1.00</td>\n",
       "      <td>1.5</td>\n",
       "      <td>2.00</td>\n",
       "      <td>2.0</td>\n",
       "    </tr>\n",
       "    <tr>\n",
       "      <th>C02076V02508</th>\n",
       "      <td>504.0</td>\n",
       "      <td>435.000000</td>\n",
       "      <td>88.283836</td>\n",
       "      <td>310.0</td>\n",
       "      <td>320.00</td>\n",
       "      <td>445.0</td>\n",
       "      <td>520.00</td>\n",
       "      <td>560.0</td>\n",
       "    </tr>\n",
       "    <tr>\n",
       "      <th>VALUE</th>\n",
       "      <td>504.0</td>\n",
       "      <td>24342.586706</td>\n",
       "      <td>19515.499556</td>\n",
       "      <td>44.8</td>\n",
       "      <td>51.10</td>\n",
       "      <td>29461.5</td>\n",
       "      <td>39312.75</td>\n",
       "      <td>67392.0</td>\n",
       "    </tr>\n",
       "  </tbody>\n",
       "</table>\n",
       "</div>"
      ],
      "text/plain": [
       "              count          mean           std     min      25%      50%  \\\n",
       "TLIST(A1)     504.0   2016.500000      3.455482  2011.0  2013.75   2016.5   \n",
       "Year          504.0   2016.500000      3.455482  2011.0  2013.75   2016.5   \n",
       "C02199V02655  504.0      1.500000      0.500497     1.0     1.00      1.5   \n",
       "C02076V02508  504.0    435.000000     88.283836   310.0   320.00    445.0   \n",
       "VALUE         504.0  24342.586706  19515.499556    44.8    51.10  29461.5   \n",
       "\n",
       "                   75%      max  \n",
       "TLIST(A1)      2019.25   2022.0  \n",
       "Year           2019.25   2022.0  \n",
       "C02199V02655      2.00      2.0  \n",
       "C02076V02508    520.00    560.0  \n",
       "VALUE         39312.75  67392.0  "
      ]
     },
     "execution_count": 13,
     "metadata": {},
     "output_type": "execute_result"
    }
   ],
   "source": [
    "# Print descriptive statistics for numerical variables\n",
    "df.describe().T"
   ]
  },
  {
   "cell_type": "code",
   "execution_count": 21,
   "id": "03552c45-ada2-4b03-8052-aef05b000fdb",
   "metadata": {},
   "outputs": [
    {
     "name": "stdout",
     "output_type": "stream",
     "text": [
      "Missing Values:\n",
      " STATISTIC          0\n",
      "Statistic Label    0\n",
      "TLIST(A1)          0\n",
      "Year               0\n",
      "C02199V02655       0\n",
      "Sex                0\n",
      "C02076V02508       0\n",
      "Age Group          0\n",
      "UNIT               0\n",
      "VALUE              0\n",
      "dtype: int64\n"
     ]
    }
   ],
   "source": [
    "# Print the number of missing values in each column\n",
    "print(\"Missing Values:\\n\", df.isnull().sum())"
   ]
  },
  {
   "cell_type": "markdown",
   "id": "b06aad89-a5c9-44c9-8810-6f8488f07670",
   "metadata": {},
   "source": [
    "# Summary Statistics: \n",
    "Calculate descriptive statistics for numerical variables (e.g., mean, median, standard deviation) and frequency tables for categorical variables. \n",
    "\n",
    "This provides an initial understanding of the data's central tendencies and variability.\n"
   ]
  },
  {
   "cell_type": "code",
   "execution_count": 18,
   "id": "2b8abb4a-b0b3-4aab-92a9-9cec31990a7d",
   "metadata": {},
   "outputs": [
    {
     "data": {
      "text/html": [
       "<style type=\"text/css\">\n",
       "#T_160cc_row0_col1, #T_160cc_row1_col1 {\n",
       "  width: 10em;\n",
       "  background: linear-gradient(90deg, #205ff2 8.3%, transparent 8.3%);\n",
       "}\n",
       "#T_160cc_row0_col2, #T_160cc_row1_col2, #T_160cc_row2_col2 {\n",
       "  background-color: #fff5f0;\n",
       "  color: #000000;\n",
       "}\n",
       "#T_160cc_row0_col5, #T_160cc_row1_col5 {\n",
       "  background-color: #4f69d9;\n",
       "  color: #f1f1f1;\n",
       "}\n",
       "#T_160cc_row2_col1 {\n",
       "  width: 10em;\n",
       "  background: linear-gradient(90deg, #205ff2 0.0%, transparent 0.0%);\n",
       "}\n",
       "#T_160cc_row2_col5 {\n",
       "  background-color: #3b4cc0;\n",
       "  color: #f1f1f1;\n",
       "}\n",
       "#T_160cc_row3_col1 {\n",
       "  width: 10em;\n",
       "  background: linear-gradient(90deg, #205ff2 1.8%, transparent 1.8%);\n",
       "}\n",
       "#T_160cc_row3_col2 {\n",
       "  background-color: #fff4ef;\n",
       "  color: #000000;\n",
       "}\n",
       "#T_160cc_row3_col5 {\n",
       "  background-color: #3e51c5;\n",
       "  color: #f1f1f1;\n",
       "}\n",
       "#T_160cc_row4_col1 {\n",
       "  width: 10em;\n",
       "  background: linear-gradient(90deg, #205ff2 100.0%, transparent 100.0%);\n",
       "}\n",
       "#T_160cc_row4_col2 {\n",
       "  background-color: #67000d;\n",
       "  color: #f1f1f1;\n",
       "}\n",
       "#T_160cc_row4_col5 {\n",
       "  background-color: #b40426;\n",
       "  color: #f1f1f1;\n",
       "}\n",
       "</style>\n",
       "<table id=\"T_160cc\">\n",
       "  <thead>\n",
       "    <tr>\n",
       "      <th class=\"blank level0\" >&nbsp;</th>\n",
       "      <th id=\"T_160cc_level0_col0\" class=\"col_heading level0 col0\" >count</th>\n",
       "      <th id=\"T_160cc_level0_col1\" class=\"col_heading level0 col1\" >mean</th>\n",
       "      <th id=\"T_160cc_level0_col2\" class=\"col_heading level0 col2\" >std</th>\n",
       "      <th id=\"T_160cc_level0_col3\" class=\"col_heading level0 col3\" >min</th>\n",
       "      <th id=\"T_160cc_level0_col4\" class=\"col_heading level0 col4\" >25%</th>\n",
       "      <th id=\"T_160cc_level0_col5\" class=\"col_heading level0 col5\" >50%</th>\n",
       "      <th id=\"T_160cc_level0_col6\" class=\"col_heading level0 col6\" >75%</th>\n",
       "      <th id=\"T_160cc_level0_col7\" class=\"col_heading level0 col7\" >max</th>\n",
       "    </tr>\n",
       "  </thead>\n",
       "  <tbody>\n",
       "    <tr>\n",
       "      <th id=\"T_160cc_level0_row0\" class=\"row_heading level0 row0\" >TLIST(A1)</th>\n",
       "      <td id=\"T_160cc_row0_col0\" class=\"data row0 col0\" >504.000000</td>\n",
       "      <td id=\"T_160cc_row0_col1\" class=\"data row0 col1\" >2016.500000</td>\n",
       "      <td id=\"T_160cc_row0_col2\" class=\"data row0 col2\" >3.455482</td>\n",
       "      <td id=\"T_160cc_row0_col3\" class=\"data row0 col3\" >2011.000000</td>\n",
       "      <td id=\"T_160cc_row0_col4\" class=\"data row0 col4\" >2013.750000</td>\n",
       "      <td id=\"T_160cc_row0_col5\" class=\"data row0 col5\" >2016.500000</td>\n",
       "      <td id=\"T_160cc_row0_col6\" class=\"data row0 col6\" >2019.250000</td>\n",
       "      <td id=\"T_160cc_row0_col7\" class=\"data row0 col7\" >2022.000000</td>\n",
       "    </tr>\n",
       "    <tr>\n",
       "      <th id=\"T_160cc_level0_row1\" class=\"row_heading level0 row1\" >Year</th>\n",
       "      <td id=\"T_160cc_row1_col0\" class=\"data row1 col0\" >504.000000</td>\n",
       "      <td id=\"T_160cc_row1_col1\" class=\"data row1 col1\" >2016.500000</td>\n",
       "      <td id=\"T_160cc_row1_col2\" class=\"data row1 col2\" >3.455482</td>\n",
       "      <td id=\"T_160cc_row1_col3\" class=\"data row1 col3\" >2011.000000</td>\n",
       "      <td id=\"T_160cc_row1_col4\" class=\"data row1 col4\" >2013.750000</td>\n",
       "      <td id=\"T_160cc_row1_col5\" class=\"data row1 col5\" >2016.500000</td>\n",
       "      <td id=\"T_160cc_row1_col6\" class=\"data row1 col6\" >2019.250000</td>\n",
       "      <td id=\"T_160cc_row1_col7\" class=\"data row1 col7\" >2022.000000</td>\n",
       "    </tr>\n",
       "    <tr>\n",
       "      <th id=\"T_160cc_level0_row2\" class=\"row_heading level0 row2\" >C02199V02655</th>\n",
       "      <td id=\"T_160cc_row2_col0\" class=\"data row2 col0\" >504.000000</td>\n",
       "      <td id=\"T_160cc_row2_col1\" class=\"data row2 col1\" >1.500000</td>\n",
       "      <td id=\"T_160cc_row2_col2\" class=\"data row2 col2\" >0.500497</td>\n",
       "      <td id=\"T_160cc_row2_col3\" class=\"data row2 col3\" >1.000000</td>\n",
       "      <td id=\"T_160cc_row2_col4\" class=\"data row2 col4\" >1.000000</td>\n",
       "      <td id=\"T_160cc_row2_col5\" class=\"data row2 col5\" >1.500000</td>\n",
       "      <td id=\"T_160cc_row2_col6\" class=\"data row2 col6\" >2.000000</td>\n",
       "      <td id=\"T_160cc_row2_col7\" class=\"data row2 col7\" >2.000000</td>\n",
       "    </tr>\n",
       "    <tr>\n",
       "      <th id=\"T_160cc_level0_row3\" class=\"row_heading level0 row3\" >C02076V02508</th>\n",
       "      <td id=\"T_160cc_row3_col0\" class=\"data row3 col0\" >504.000000</td>\n",
       "      <td id=\"T_160cc_row3_col1\" class=\"data row3 col1\" >435.000000</td>\n",
       "      <td id=\"T_160cc_row3_col2\" class=\"data row3 col2\" >88.283836</td>\n",
       "      <td id=\"T_160cc_row3_col3\" class=\"data row3 col3\" >310.000000</td>\n",
       "      <td id=\"T_160cc_row3_col4\" class=\"data row3 col4\" >320.000000</td>\n",
       "      <td id=\"T_160cc_row3_col5\" class=\"data row3 col5\" >445.000000</td>\n",
       "      <td id=\"T_160cc_row3_col6\" class=\"data row3 col6\" >520.000000</td>\n",
       "      <td id=\"T_160cc_row3_col7\" class=\"data row3 col7\" >560.000000</td>\n",
       "    </tr>\n",
       "    <tr>\n",
       "      <th id=\"T_160cc_level0_row4\" class=\"row_heading level0 row4\" >VALUE</th>\n",
       "      <td id=\"T_160cc_row4_col0\" class=\"data row4 col0\" >504.000000</td>\n",
       "      <td id=\"T_160cc_row4_col1\" class=\"data row4 col1\" >24342.586706</td>\n",
       "      <td id=\"T_160cc_row4_col2\" class=\"data row4 col2\" >19515.499556</td>\n",
       "      <td id=\"T_160cc_row4_col3\" class=\"data row4 col3\" >44.800000</td>\n",
       "      <td id=\"T_160cc_row4_col4\" class=\"data row4 col4\" >51.100000</td>\n",
       "      <td id=\"T_160cc_row4_col5\" class=\"data row4 col5\" >29461.500000</td>\n",
       "      <td id=\"T_160cc_row4_col6\" class=\"data row4 col6\" >39312.750000</td>\n",
       "      <td id=\"T_160cc_row4_col7\" class=\"data row4 col7\" >67392.000000</td>\n",
       "    </tr>\n",
       "  </tbody>\n",
       "</table>\n"
      ],
      "text/plain": [
       "<pandas.io.formats.style.Styler at 0x13ffe5694c0>"
      ]
     },
     "execution_count": 18,
     "metadata": {},
     "output_type": "execute_result"
    }
   ],
   "source": [
    "#  Statistical information of Dataframe\n",
    "df.describe().T.style.bar(subset=['mean'], color='#205ff2').background_gradient(subset=['std'], cmap='Reds').background_gradient(subset=['50%'], cmap='coolwarm')\n"
   ]
  },
  {
   "cell_type": "code",
   "execution_count": 23,
   "id": "e2e64c24-286a-4f63-af8b-ced9f2c24407",
   "metadata": {},
   "outputs": [
    {
     "name": "stdout",
     "output_type": "stream",
     "text": [
      "Descriptive Statistics for Numerical Variables:\n",
      "\n"
     ]
    },
    {
     "data": {
      "text/html": [
       "<div>\n",
       "<style scoped>\n",
       "    .dataframe tbody tr th:only-of-type {\n",
       "        vertical-align: middle;\n",
       "    }\n",
       "\n",
       "    .dataframe tbody tr th {\n",
       "        vertical-align: top;\n",
       "    }\n",
       "\n",
       "    .dataframe thead th {\n",
       "        text-align: right;\n",
       "    }\n",
       "</style>\n",
       "<table border=\"1\" class=\"dataframe\">\n",
       "  <thead>\n",
       "    <tr style=\"text-align: right;\">\n",
       "      <th></th>\n",
       "      <th>TLIST(A1)</th>\n",
       "      <th>Year</th>\n",
       "      <th>C02199V02655</th>\n",
       "      <th>C02076V02508</th>\n",
       "      <th>VALUE</th>\n",
       "    </tr>\n",
       "  </thead>\n",
       "  <tbody>\n",
       "    <tr>\n",
       "      <th>count</th>\n",
       "      <td>504.000000</td>\n",
       "      <td>504.000000</td>\n",
       "      <td>504.000000</td>\n",
       "      <td>504.000000</td>\n",
       "      <td>504.000000</td>\n",
       "    </tr>\n",
       "    <tr>\n",
       "      <th>mean</th>\n",
       "      <td>2016.500000</td>\n",
       "      <td>2016.500000</td>\n",
       "      <td>1.500000</td>\n",
       "      <td>435.000000</td>\n",
       "      <td>24342.586706</td>\n",
       "    </tr>\n",
       "    <tr>\n",
       "      <th>std</th>\n",
       "      <td>3.455482</td>\n",
       "      <td>3.455482</td>\n",
       "      <td>0.500497</td>\n",
       "      <td>88.283836</td>\n",
       "      <td>19515.499556</td>\n",
       "    </tr>\n",
       "    <tr>\n",
       "      <th>min</th>\n",
       "      <td>2011.000000</td>\n",
       "      <td>2011.000000</td>\n",
       "      <td>1.000000</td>\n",
       "      <td>310.000000</td>\n",
       "      <td>44.800000</td>\n",
       "    </tr>\n",
       "    <tr>\n",
       "      <th>25%</th>\n",
       "      <td>2013.750000</td>\n",
       "      <td>2013.750000</td>\n",
       "      <td>1.000000</td>\n",
       "      <td>320.000000</td>\n",
       "      <td>51.100000</td>\n",
       "    </tr>\n",
       "    <tr>\n",
       "      <th>50%</th>\n",
       "      <td>2016.500000</td>\n",
       "      <td>2016.500000</td>\n",
       "      <td>1.500000</td>\n",
       "      <td>445.000000</td>\n",
       "      <td>29461.500000</td>\n",
       "    </tr>\n",
       "    <tr>\n",
       "      <th>75%</th>\n",
       "      <td>2019.250000</td>\n",
       "      <td>2019.250000</td>\n",
       "      <td>2.000000</td>\n",
       "      <td>520.000000</td>\n",
       "      <td>39312.750000</td>\n",
       "    </tr>\n",
       "    <tr>\n",
       "      <th>max</th>\n",
       "      <td>2022.000000</td>\n",
       "      <td>2022.000000</td>\n",
       "      <td>2.000000</td>\n",
       "      <td>560.000000</td>\n",
       "      <td>67392.000000</td>\n",
       "    </tr>\n",
       "  </tbody>\n",
       "</table>\n",
       "</div>"
      ],
      "text/plain": [
       "         TLIST(A1)         Year  C02199V02655  C02076V02508         VALUE\n",
       "count   504.000000   504.000000    504.000000    504.000000    504.000000\n",
       "mean   2016.500000  2016.500000      1.500000    435.000000  24342.586706\n",
       "std       3.455482     3.455482      0.500497     88.283836  19515.499556\n",
       "min    2011.000000  2011.000000      1.000000    310.000000     44.800000\n",
       "25%    2013.750000  2013.750000      1.000000    320.000000     51.100000\n",
       "50%    2016.500000  2016.500000      1.500000    445.000000  29461.500000\n",
       "75%    2019.250000  2019.250000      2.000000    520.000000  39312.750000\n",
       "max    2022.000000  2022.000000      2.000000    560.000000  67392.000000"
      ]
     },
     "execution_count": 23,
     "metadata": {},
     "output_type": "execute_result"
    }
   ],
   "source": [
    "# Summary Statistics\n",
    "# Print descriptive statistics for numerical variables\n",
    "print(\"Descriptive Statistics for Numerical Variables:\\n\" )\n",
    "df.describe()"
   ]
  },
  {
   "cell_type": "code",
   "execution_count": 24,
   "id": "61e46aab-4061-49e6-9ae6-b209769745a9",
   "metadata": {},
   "outputs": [
    {
     "name": "stdout",
     "output_type": "stream",
     "text": [
      "Frequency Tables for Categorical Variables:\n",
      "\n"
     ]
    },
    {
     "data": {
      "text/html": [
       "<div>\n",
       "<style scoped>\n",
       "    .dataframe tbody tr th:only-of-type {\n",
       "        vertical-align: middle;\n",
       "    }\n",
       "\n",
       "    .dataframe tbody tr th {\n",
       "        vertical-align: top;\n",
       "    }\n",
       "\n",
       "    .dataframe thead th {\n",
       "        text-align: right;\n",
       "    }\n",
       "</style>\n",
       "<table border=\"1\" class=\"dataframe\">\n",
       "  <thead>\n",
       "    <tr style=\"text-align: right;\">\n",
       "      <th></th>\n",
       "      <th>count</th>\n",
       "      <th>unique</th>\n",
       "      <th>top</th>\n",
       "      <th>freq</th>\n",
       "    </tr>\n",
       "  </thead>\n",
       "  <tbody>\n",
       "    <tr>\n",
       "      <th>STATISTIC</th>\n",
       "      <td>504</td>\n",
       "      <td>3</td>\n",
       "      <td>DEA04C01</td>\n",
       "      <td>168</td>\n",
       "    </tr>\n",
       "    <tr>\n",
       "      <th>Statistic Label</th>\n",
       "      <td>504</td>\n",
       "      <td>3</td>\n",
       "      <td>Mean Annual Earnings</td>\n",
       "      <td>168</td>\n",
       "    </tr>\n",
       "    <tr>\n",
       "      <th>Sex</th>\n",
       "      <td>504</td>\n",
       "      <td>2</td>\n",
       "      <td>Male</td>\n",
       "      <td>252</td>\n",
       "    </tr>\n",
       "    <tr>\n",
       "      <th>Age Group</th>\n",
       "      <td>504</td>\n",
       "      <td>7</td>\n",
       "      <td>15 - 24 years</td>\n",
       "      <td>72</td>\n",
       "    </tr>\n",
       "    <tr>\n",
       "      <th>UNIT</th>\n",
       "      <td>504</td>\n",
       "      <td>2</td>\n",
       "      <td>Euro</td>\n",
       "      <td>336</td>\n",
       "    </tr>\n",
       "  </tbody>\n",
       "</table>\n",
       "</div>"
      ],
      "text/plain": [
       "                count unique                   top freq\n",
       "STATISTIC         504      3              DEA04C01  168\n",
       "Statistic Label   504      3  Mean Annual Earnings  168\n",
       "Sex               504      2                  Male  252\n",
       "Age Group         504      7         15 - 24 years   72\n",
       "UNIT              504      2                  Euro  336"
      ]
     },
     "execution_count": 24,
     "metadata": {},
     "output_type": "execute_result"
    }
   ],
   "source": [
    "# Identify categorical variables\n",
    "print(\"Frequency Tables for Categorical Variables:\\n\")\n",
    "df.describe(include=object).T"
   ]
  },
  {
   "cell_type": "code",
   "execution_count": 14,
   "id": "c3123a3d-375c-43fa-b0c1-2cfba5045af9",
   "metadata": {},
   "outputs": [
    {
     "data": {
      "text/plain": [
       "array(['Mean Annual Earnings', 'Median Annual Earnings',\n",
       "       'Percentage of Employments'], dtype=object)"
      ]
     },
     "execution_count": 14,
     "metadata": {},
     "output_type": "execute_result"
    }
   ],
   "source": [
    "df['Statistic Label'].unique()"
   ]
  },
  {
   "cell_type": "code",
   "execution_count": 15,
   "id": "4584cd5d-717f-45d9-986a-a1498efb8d08",
   "metadata": {},
   "outputs": [
    {
     "data": {
      "text/plain": [
       "array(['Male', 'Female'], dtype=object)"
      ]
     },
     "execution_count": 15,
     "metadata": {},
     "output_type": "execute_result"
    }
   ],
   "source": [
    "df['Sex'].unique()"
   ]
  },
  {
   "cell_type": "code",
   "execution_count": 16,
   "id": "bfd6dcc6-6186-4bbf-9c95-dcbdcffebafe",
   "metadata": {},
   "outputs": [
    {
     "data": {
      "text/plain": [
       "array(['15 - 24 years', '15 years and over', '25 - 29 years',\n",
       "       '30 - 39 years', '40 - 49 years', '50 - 59 years',\n",
       "       '60 years and over'], dtype=object)"
      ]
     },
     "execution_count": 16,
     "metadata": {},
     "output_type": "execute_result"
    }
   ],
   "source": [
    "df['Age Group'].unique()"
   ]
  },
  {
   "cell_type": "markdown",
   "id": "7adf2d87-be9d-4c5f-b921-e8a8d121025e",
   "metadata": {},
   "source": [
    "# Pre-processing"
   ]
  },
  {
   "cell_type": "markdown",
   "id": "42b2a121-e9ab-45f3-a005-c091433c3100",
   "metadata": {},
   "source": [
    "# Handling Missing Values: \n",
    "Address any missing data by imputation or removal, depending on the extent and nature of the missingness."
   ]
  },
  {
   "cell_type": "code",
   "execution_count": 26,
   "id": "bd98f1c8-9437-4b63-8353-f33e1698f913",
   "metadata": {},
   "outputs": [
    {
     "name": "stdout",
     "output_type": "stream",
     "text": [
      "Missing Values:\n",
      " 0\n"
     ]
    }
   ],
   "source": [
    "# Handling Missing Values\n",
    "# Drop rows with missing values\n",
    "print(\"Missing Values:\\n\", df.isnull().sum().sum())"
   ]
  },
  {
   "cell_type": "markdown",
   "id": "264ac009-e430-41fa-ac5b-972f96fd1c6e",
   "metadata": {},
   "source": [
    "# Encoding Categorical Variables: \n",
    "Convert categorical variables into a numerical format suitable for analysis, such as one-hot encoding or label encoding."
   ]
  },
  {
   "cell_type": "code",
   "execution_count": null,
   "id": "1f1f80b4-6a9c-461c-804d-85e591b2d78f",
   "metadata": {},
   "outputs": [],
   "source": [
    "# Encoding Categorical Variables\n",
    "# Perform one-hot encoding for categorical variables\n",
    "\n",
    "df_encoded = pd.get_dummies(df, columns=['category'])"
   ]
  },
  {
   "cell_type": "markdown",
   "id": "fb3dceb9-4759-4058-b91c-2f9555514ab1",
   "metadata": {},
   "source": [
    "# Normalization/Standardization: \n",
    "Scale numerical features to a similar range to prevent variables with larger magnitudes from dominating the analysis."
   ]
  },
  {
   "cell_type": "code",
   "execution_count": null,
   "id": "c6733ad9-0b4f-4895-9afb-477a0f203c31",
   "metadata": {},
   "outputs": [],
   "source": [
    "# Normalization/Standardization\n",
    "# Scale numerical features to a similar range using StandardScaler\n",
    "from sklearn.preprocessing import StandardScaler\n",
    "scaler = StandardScaler()\n",
    "df_scaled = scaler.fit_transform(df[['numerical_column']])"
   ]
  },
  {
   "cell_type": "markdown",
   "id": "d578b3d3-778f-497e-ad0a-b7a7ca03d10a",
   "metadata": {},
   "source": [
    "\n",
    "\n",
    "•\t\n"
   ]
  },
  {
   "cell_type": "code",
   "execution_count": null,
   "id": "7b490353-e4d8-4dc2-add9-e53ed589034d",
   "metadata": {},
   "outputs": [],
   "source": []
  }
 ],
 "metadata": {
  "kernelspec": {
   "display_name": "Python 3 (ipykernel)",
   "language": "python",
   "name": "python3"
  },
  "language_info": {
   "codemirror_mode": {
    "name": "ipython",
    "version": 3
   },
   "file_extension": ".py",
   "mimetype": "text/x-python",
   "name": "python",
   "nbconvert_exporter": "python",
   "pygments_lexer": "ipython3",
   "version": "3.12.1"
  }
 },
 "nbformat": 4,
 "nbformat_minor": 5
}
