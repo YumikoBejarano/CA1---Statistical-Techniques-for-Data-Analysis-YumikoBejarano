{
 "cells": [
  {
   "cell_type": "markdown",
   "id": "2dea6e5b-5b51-496c-98c1-a124a5f8dfab",
   "metadata": {},
   "source": [
    "# <center> CCT College Dublin </center>\r\n",
    "\r\n",
    "## <center> Assessment Cover Page</center>\r\n",
    "\r\n",
    "<p style=\"font-size:larger; text-align:center; color:red;\"><em>\r\n",
    "To be provided separately as a word doc for students to include with every submission\r\n",
    "</em></p>\r\n",
    "\r\n",
    "<br><br><br>\r\n",
    "---\r\n",
    "\r\n",
    "<span style=\"font-size:larger;\">\r\n",
    "\r\n",
    "**Module Title:**&nbspStatistical Techniques for Data Analysisa Preparation\r\n",
    "**Assessment Title:**&nbsp;& Statistical Techniques p;David McQuaid\r\n",
    "**Student Full Name:**&nbsp;&nbsp;&nbsp;Yumiko Maria Bejarano Azogue \r\n",
    "**Student Number:**&nbsp;&nbsp;&nbsp;2024144\r\n",
    "**Assessment Due Date:**21st April 2024bsp;5th April 2024 23:59\r\n",
    "**Date of Submission:*21st April 2024 2024bsp;&nbsp;5/04/2024\r\n",
    "</span> \r\n",
    "\r\n",
    "<br><br><br>\r\n",
    "\r\n",
    "---\r\n",
    "\r\n",
    "#### Declaration \r\n",
    "\r\n",
    "```\r\n",
    "By submitting this assessment, I confirm that I have read the CCT policy on Academic Misconduct and understand the implications of submitting work that is not my own or does not appropriately reference material taken from a third party or other source. I declare it to be my own work and that all material from third parties has been appropriately referenced. I further confirm that this work has not previously been submitted for assessment by myself or someone else in CCT College Dublin or any other higher education institution.\r\n",
    "```\r\n",
    "<br><br><br>\r\n"
   ]
  },
  {
   "cell_type": "markdown",
   "id": "4893e07c-569d-48d0-8a74-780038546052",
   "metadata": {},
   "source": [
    "# Observing and describing data"
   ]
  },
  {
   "cell_type": "markdown",
   "id": "da888b52-e52a-4251-a031-206e8f592dab",
   "metadata": {},
   "source": [
    "## Characterisation of the data set:"
   ]
  },
  {
   "cell_type": "code",
   "execution_count": 1,
   "id": "80ee05db-387d-4581-98a1-03fafb3499e6",
   "metadata": {},
   "outputs": [],
   "source": [
    "#Libraries and summary\n",
    "import pandas as pd\n",
    "import numpy as np\n"
   ]
  },
  {
   "cell_type": "code",
   "execution_count": 5,
   "id": "c02e0a2c-6563-499e-9d58-f20be8639669",
   "metadata": {},
   "outputs": [],
   "source": [
    "# Import thi slibrary to suppress the warnings\n",
    "import warnings\n",
    "# The object 'warnings' is used to call the method 'filterwarnings' and ignore the warnings\n",
    "warnings.filterwarnings('ignore')  "
   ]
  },
  {
   "cell_type": "code",
   "execution_count": 21,
   "id": "9e8826bf-aec9-4d9f-bbdb-ecf9dbc8b074",
   "metadata": {},
   "outputs": [],
   "source": [
    "# Loading the data into the data frame\n",
    "df = pd.read_csv(\"DEA04.20240415011714.csv\") # df=dataframe\n"
   ]
  },
  {
   "cell_type": "code",
   "execution_count": 22,
   "id": "c9bd6a9d-bde5-4ea6-863f-df9ae37931c2",
   "metadata": {},
   "outputs": [
    {
     "data": {
      "text/html": [
       "<div>\n",
       "<style scoped>\n",
       "    .dataframe tbody tr th:only-of-type {\n",
       "        vertical-align: middle;\n",
       "    }\n",
       "\n",
       "    .dataframe tbody tr th {\n",
       "        vertical-align: top;\n",
       "    }\n",
       "\n",
       "    .dataframe thead th {\n",
       "        text-align: right;\n",
       "    }\n",
       "</style>\n",
       "<table border=\"1\" class=\"dataframe\">\n",
       "  <thead>\n",
       "    <tr style=\"text-align: right;\">\n",
       "      <th></th>\n",
       "      <th>STATISTIC</th>\n",
       "      <th>Statistic Label</th>\n",
       "      <th>TLIST(A1)</th>\n",
       "      <th>Year</th>\n",
       "      <th>C02199V02655</th>\n",
       "      <th>Sex</th>\n",
       "      <th>C02076V02508</th>\n",
       "      <th>Age Group</th>\n",
       "      <th>UNIT</th>\n",
       "      <th>VALUE</th>\n",
       "    </tr>\n",
       "  </thead>\n",
       "  <tbody>\n",
       "    <tr>\n",
       "      <th>0</th>\n",
       "      <td>DEA04C01</td>\n",
       "      <td>Mean Annual Earnings</td>\n",
       "      <td>2011</td>\n",
       "      <td>2011</td>\n",
       "      <td>1</td>\n",
       "      <td>Male</td>\n",
       "      <td>310</td>\n",
       "      <td>15 - 24 years</td>\n",
       "      <td>Euro</td>\n",
       "      <td>18900.0</td>\n",
       "    </tr>\n",
       "    <tr>\n",
       "      <th>1</th>\n",
       "      <td>DEA04C01</td>\n",
       "      <td>Mean Annual Earnings</td>\n",
       "      <td>2011</td>\n",
       "      <td>2011</td>\n",
       "      <td>1</td>\n",
       "      <td>Male</td>\n",
       "      <td>320</td>\n",
       "      <td>15 years and over</td>\n",
       "      <td>Euro</td>\n",
       "      <td>45781.0</td>\n",
       "    </tr>\n",
       "    <tr>\n",
       "      <th>2</th>\n",
       "      <td>DEA04C01</td>\n",
       "      <td>Mean Annual Earnings</td>\n",
       "      <td>2011</td>\n",
       "      <td>2011</td>\n",
       "      <td>1</td>\n",
       "      <td>Male</td>\n",
       "      <td>410</td>\n",
       "      <td>25 - 29 years</td>\n",
       "      <td>Euro</td>\n",
       "      <td>31135.0</td>\n",
       "    </tr>\n",
       "    <tr>\n",
       "      <th>3</th>\n",
       "      <td>DEA04C01</td>\n",
       "      <td>Mean Annual Earnings</td>\n",
       "      <td>2011</td>\n",
       "      <td>2011</td>\n",
       "      <td>1</td>\n",
       "      <td>Male</td>\n",
       "      <td>445</td>\n",
       "      <td>30 - 39 years</td>\n",
       "      <td>Euro</td>\n",
       "      <td>44439.0</td>\n",
       "    </tr>\n",
       "    <tr>\n",
       "      <th>4</th>\n",
       "      <td>DEA04C01</td>\n",
       "      <td>Mean Annual Earnings</td>\n",
       "      <td>2011</td>\n",
       "      <td>2011</td>\n",
       "      <td>1</td>\n",
       "      <td>Male</td>\n",
       "      <td>480</td>\n",
       "      <td>40 - 49 years</td>\n",
       "      <td>Euro</td>\n",
       "      <td>55690.0</td>\n",
       "    </tr>\n",
       "  </tbody>\n",
       "</table>\n",
       "</div>"
      ],
      "text/plain": [
       "  STATISTIC       Statistic Label  TLIST(A1)  Year  C02199V02655   Sex  \\\n",
       "0  DEA04C01  Mean Annual Earnings       2011  2011             1  Male   \n",
       "1  DEA04C01  Mean Annual Earnings       2011  2011             1  Male   \n",
       "2  DEA04C01  Mean Annual Earnings       2011  2011             1  Male   \n",
       "3  DEA04C01  Mean Annual Earnings       2011  2011             1  Male   \n",
       "4  DEA04C01  Mean Annual Earnings       2011  2011             1  Male   \n",
       "\n",
       "   C02076V02508          Age Group  UNIT    VALUE  \n",
       "0           310      15 - 24 years  Euro  18900.0  \n",
       "1           320  15 years and over  Euro  45781.0  \n",
       "2           410      25 - 29 years  Euro  31135.0  \n",
       "3           445      30 - 39 years  Euro  44439.0  \n",
       "4           480      40 - 49 years  Euro  55690.0  "
      ]
     },
     "execution_count": 22,
     "metadata": {},
     "output_type": "execute_result"
    }
   ],
   "source": [
    "# To display the top 5 rows\n",
    "df.head()"
   ]
  },
  {
   "cell_type": "code",
   "execution_count": 23,
   "id": "0d952c8c-a23d-4bb5-aaab-4a486cfdbecb",
   "metadata": {},
   "outputs": [
    {
     "data": {
      "text/html": [
       "<div>\n",
       "<style scoped>\n",
       "    .dataframe tbody tr th:only-of-type {\n",
       "        vertical-align: middle;\n",
       "    }\n",
       "\n",
       "    .dataframe tbody tr th {\n",
       "        vertical-align: top;\n",
       "    }\n",
       "\n",
       "    .dataframe thead th {\n",
       "        text-align: right;\n",
       "    }\n",
       "</style>\n",
       "<table border=\"1\" class=\"dataframe\">\n",
       "  <thead>\n",
       "    <tr style=\"text-align: right;\">\n",
       "      <th></th>\n",
       "      <th>STATISTIC</th>\n",
       "      <th>Statistic Label</th>\n",
       "      <th>TLIST(A1)</th>\n",
       "      <th>Year</th>\n",
       "      <th>C02199V02655</th>\n",
       "      <th>Sex</th>\n",
       "      <th>C02076V02508</th>\n",
       "      <th>Age Group</th>\n",
       "      <th>UNIT</th>\n",
       "      <th>VALUE</th>\n",
       "    </tr>\n",
       "  </thead>\n",
       "  <tbody>\n",
       "    <tr>\n",
       "      <th>499</th>\n",
       "      <td>DEA04C03</td>\n",
       "      <td>Percentage of Employments</td>\n",
       "      <td>2022</td>\n",
       "      <td>2022</td>\n",
       "      <td>2</td>\n",
       "      <td>Female</td>\n",
       "      <td>410</td>\n",
       "      <td>25 - 29 years</td>\n",
       "      <td>%</td>\n",
       "      <td>48.3</td>\n",
       "    </tr>\n",
       "    <tr>\n",
       "      <th>500</th>\n",
       "      <td>DEA04C03</td>\n",
       "      <td>Percentage of Employments</td>\n",
       "      <td>2022</td>\n",
       "      <td>2022</td>\n",
       "      <td>2</td>\n",
       "      <td>Female</td>\n",
       "      <td>445</td>\n",
       "      <td>30 - 39 years</td>\n",
       "      <td>%</td>\n",
       "      <td>47.4</td>\n",
       "    </tr>\n",
       "    <tr>\n",
       "      <th>501</th>\n",
       "      <td>DEA04C03</td>\n",
       "      <td>Percentage of Employments</td>\n",
       "      <td>2022</td>\n",
       "      <td>2022</td>\n",
       "      <td>2</td>\n",
       "      <td>Female</td>\n",
       "      <td>480</td>\n",
       "      <td>40 - 49 years</td>\n",
       "      <td>%</td>\n",
       "      <td>49.1</td>\n",
       "    </tr>\n",
       "    <tr>\n",
       "      <th>502</th>\n",
       "      <td>DEA04C03</td>\n",
       "      <td>Percentage of Employments</td>\n",
       "      <td>2022</td>\n",
       "      <td>2022</td>\n",
       "      <td>2</td>\n",
       "      <td>Female</td>\n",
       "      <td>520</td>\n",
       "      <td>50 - 59 years</td>\n",
       "      <td>%</td>\n",
       "      <td>49.8</td>\n",
       "    </tr>\n",
       "    <tr>\n",
       "      <th>503</th>\n",
       "      <td>DEA04C03</td>\n",
       "      <td>Percentage of Employments</td>\n",
       "      <td>2022</td>\n",
       "      <td>2022</td>\n",
       "      <td>2</td>\n",
       "      <td>Female</td>\n",
       "      <td>560</td>\n",
       "      <td>60 years and over</td>\n",
       "      <td>%</td>\n",
       "      <td>48.2</td>\n",
       "    </tr>\n",
       "  </tbody>\n",
       "</table>\n",
       "</div>"
      ],
      "text/plain": [
       "    STATISTIC            Statistic Label  TLIST(A1)  Year  C02199V02655  \\\n",
       "499  DEA04C03  Percentage of Employments       2022  2022             2   \n",
       "500  DEA04C03  Percentage of Employments       2022  2022             2   \n",
       "501  DEA04C03  Percentage of Employments       2022  2022             2   \n",
       "502  DEA04C03  Percentage of Employments       2022  2022             2   \n",
       "503  DEA04C03  Percentage of Employments       2022  2022             2   \n",
       "\n",
       "        Sex  C02076V02508          Age Group UNIT  VALUE  \n",
       "499  Female           410      25 - 29 years    %   48.3  \n",
       "500  Female           445      30 - 39 years    %   47.4  \n",
       "501  Female           480      40 - 49 years    %   49.1  \n",
       "502  Female           520      50 - 59 years    %   49.8  \n",
       "503  Female           560  60 years and over    %   48.2  "
      ]
     },
     "execution_count": 23,
     "metadata": {},
     "output_type": "execute_result"
    }
   ],
   "source": [
    "# To display the bottom 5 rows\n",
    "df.tail() "
   ]
  },
  {
   "cell_type": "code",
   "execution_count": 24,
   "id": "29b37a0a-b614-4cf7-b7b7-cd71fd353b70",
   "metadata": {},
   "outputs": [
    {
     "data": {
      "text/plain": [
       "(504, 10)"
      ]
     },
     "execution_count": 24,
     "metadata": {},
     "output_type": "execute_result"
    }
   ],
   "source": [
    "df.shape  # Dataset size (rows, columns)"
   ]
  },
  {
   "cell_type": "code",
   "execution_count": 25,
   "id": "3bcbe51d-b6f1-44b4-ad7b-868848528e4a",
   "metadata": {},
   "outputs": [
    {
     "name": "stdout",
     "output_type": "stream",
     "text": [
      "\n",
      "Information about the dataframe:\n",
      "<class 'pandas.core.frame.DataFrame'>\n",
      "RangeIndex: 504 entries, 0 to 503\n",
      "Data columns (total 10 columns):\n",
      " #   Column           Non-Null Count  Dtype  \n",
      "---  ------           --------------  -----  \n",
      " 0   STATISTIC        504 non-null    object \n",
      " 1   Statistic Label  504 non-null    object \n",
      " 2   TLIST(A1)        504 non-null    int64  \n",
      " 3   Year             504 non-null    int64  \n",
      " 4   C02199V02655     504 non-null    int64  \n",
      " 5   Sex              504 non-null    object \n",
      " 6   C02076V02508     504 non-null    int64  \n",
      " 7   Age Group        504 non-null    object \n",
      " 8   UNIT             504 non-null    object \n",
      " 9   VALUE            504 non-null    float64\n",
      "dtypes: float64(1), int64(4), object(5)\n",
      "memory usage: 39.5+ KB\n"
     ]
    }
   ],
   "source": [
    "# Information about the dataframe\n",
    "print(\"\\nInformation about the dataframe:\")\n",
    "df.info()\n"
   ]
  },
  {
   "cell_type": "code",
   "execution_count": 27,
   "id": "5569c077-7698-4170-a99d-42d4dc6c6096",
   "metadata": {},
   "outputs": [
    {
     "data": {
      "text/plain": [
       "STATISTIC            3\n",
       "Statistic Label      3\n",
       "TLIST(A1)           12\n",
       "Year                12\n",
       "C02199V02655         2\n",
       "Sex                  2\n",
       "C02076V02508         7\n",
       "Age Group            7\n",
       "UNIT                 2\n",
       "VALUE              390\n",
       "dtype: int64"
      ]
     },
     "execution_count": 27,
     "metadata": {},
     "output_type": "execute_result"
    }
   ],
   "source": [
    "df.nunique()"
   ]
  },
  {
   "cell_type": "code",
   "execution_count": 29,
   "id": "774304a9-8aac-4572-9c8b-1632a213db56",
   "metadata": {},
   "outputs": [
    {
     "data": {
      "text/plain": [
       "False"
      ]
     },
     "execution_count": 29,
     "metadata": {},
     "output_type": "execute_result"
    }
   ],
   "source": [
    "# Missing Values\n",
    "df.isnull().values.any()"
   ]
  },
  {
   "cell_type": "code",
   "execution_count": 30,
   "id": "528ddb73-ff6f-45b7-890a-df53c95ef35b",
   "metadata": {},
   "outputs": [
    {
     "data": {
      "text/plain": [
       "0"
      ]
     },
     "execution_count": 30,
     "metadata": {},
     "output_type": "execute_result"
    }
   ],
   "source": [
    "df.isnull().sum().sum()"
   ]
  },
  {
   "cell_type": "code",
   "execution_count": 37,
   "id": "61e46aab-4061-49e6-9ae6-b209769745a9",
   "metadata": {},
   "outputs": [
    {
     "data": {
      "text/html": [
       "<div>\n",
       "<style scoped>\n",
       "    .dataframe tbody tr th:only-of-type {\n",
       "        vertical-align: middle;\n",
       "    }\n",
       "\n",
       "    .dataframe tbody tr th {\n",
       "        vertical-align: top;\n",
       "    }\n",
       "\n",
       "    .dataframe thead th {\n",
       "        text-align: right;\n",
       "    }\n",
       "</style>\n",
       "<table border=\"1\" class=\"dataframe\">\n",
       "  <thead>\n",
       "    <tr style=\"text-align: right;\">\n",
       "      <th></th>\n",
       "      <th>count</th>\n",
       "      <th>unique</th>\n",
       "      <th>top</th>\n",
       "      <th>freq</th>\n",
       "    </tr>\n",
       "  </thead>\n",
       "  <tbody>\n",
       "    <tr>\n",
       "      <th>STATISTIC</th>\n",
       "      <td>504</td>\n",
       "      <td>3</td>\n",
       "      <td>DEA04C01</td>\n",
       "      <td>168</td>\n",
       "    </tr>\n",
       "    <tr>\n",
       "      <th>Statistic Label</th>\n",
       "      <td>504</td>\n",
       "      <td>3</td>\n",
       "      <td>Mean Annual Earnings</td>\n",
       "      <td>168</td>\n",
       "    </tr>\n",
       "    <tr>\n",
       "      <th>Sex</th>\n",
       "      <td>504</td>\n",
       "      <td>2</td>\n",
       "      <td>Male</td>\n",
       "      <td>252</td>\n",
       "    </tr>\n",
       "    <tr>\n",
       "      <th>Age Group</th>\n",
       "      <td>504</td>\n",
       "      <td>7</td>\n",
       "      <td>15 - 24 years</td>\n",
       "      <td>72</td>\n",
       "    </tr>\n",
       "    <tr>\n",
       "      <th>UNIT</th>\n",
       "      <td>504</td>\n",
       "      <td>2</td>\n",
       "      <td>Euro</td>\n",
       "      <td>336</td>\n",
       "    </tr>\n",
       "  </tbody>\n",
       "</table>\n",
       "</div>"
      ],
      "text/plain": [
       "                count unique                   top freq\n",
       "STATISTIC         504      3              DEA04C01  168\n",
       "Statistic Label   504      3  Mean Annual Earnings  168\n",
       "Sex               504      2                  Male  252\n",
       "Age Group         504      7         15 - 24 years   72\n",
       "UNIT              504      2                  Euro  336"
      ]
     },
     "execution_count": 37,
     "metadata": {},
     "output_type": "execute_result"
    }
   ],
   "source": [
    "df.describe(include=object).T"
   ]
  },
  {
   "cell_type": "code",
   "execution_count": 36,
   "id": "52554d4d-6799-4468-a285-649f0ae30b44",
   "metadata": {},
   "outputs": [
    {
     "data": {
      "text/html": [
       "<div>\n",
       "<style scoped>\n",
       "    .dataframe tbody tr th:only-of-type {\n",
       "        vertical-align: middle;\n",
       "    }\n",
       "\n",
       "    .dataframe tbody tr th {\n",
       "        vertical-align: top;\n",
       "    }\n",
       "\n",
       "    .dataframe thead th {\n",
       "        text-align: right;\n",
       "    }\n",
       "</style>\n",
       "<table border=\"1\" class=\"dataframe\">\n",
       "  <thead>\n",
       "    <tr style=\"text-align: right;\">\n",
       "      <th></th>\n",
       "      <th>count</th>\n",
       "      <th>mean</th>\n",
       "      <th>std</th>\n",
       "      <th>min</th>\n",
       "      <th>25%</th>\n",
       "      <th>50%</th>\n",
       "      <th>75%</th>\n",
       "      <th>max</th>\n",
       "    </tr>\n",
       "  </thead>\n",
       "  <tbody>\n",
       "    <tr>\n",
       "      <th>TLIST(A1)</th>\n",
       "      <td>504.0</td>\n",
       "      <td>2016.500000</td>\n",
       "      <td>3.455482</td>\n",
       "      <td>2011.0</td>\n",
       "      <td>2013.75</td>\n",
       "      <td>2016.5</td>\n",
       "      <td>2019.25</td>\n",
       "      <td>2022.0</td>\n",
       "    </tr>\n",
       "    <tr>\n",
       "      <th>Year</th>\n",
       "      <td>504.0</td>\n",
       "      <td>2016.500000</td>\n",
       "      <td>3.455482</td>\n",
       "      <td>2011.0</td>\n",
       "      <td>2013.75</td>\n",
       "      <td>2016.5</td>\n",
       "      <td>2019.25</td>\n",
       "      <td>2022.0</td>\n",
       "    </tr>\n",
       "    <tr>\n",
       "      <th>C02199V02655</th>\n",
       "      <td>504.0</td>\n",
       "      <td>1.500000</td>\n",
       "      <td>0.500497</td>\n",
       "      <td>1.0</td>\n",
       "      <td>1.00</td>\n",
       "      <td>1.5</td>\n",
       "      <td>2.00</td>\n",
       "      <td>2.0</td>\n",
       "    </tr>\n",
       "    <tr>\n",
       "      <th>C02076V02508</th>\n",
       "      <td>504.0</td>\n",
       "      <td>435.000000</td>\n",
       "      <td>88.283836</td>\n",
       "      <td>310.0</td>\n",
       "      <td>320.00</td>\n",
       "      <td>445.0</td>\n",
       "      <td>520.00</td>\n",
       "      <td>560.0</td>\n",
       "    </tr>\n",
       "    <tr>\n",
       "      <th>VALUE</th>\n",
       "      <td>504.0</td>\n",
       "      <td>24342.586706</td>\n",
       "      <td>19515.499556</td>\n",
       "      <td>44.8</td>\n",
       "      <td>51.10</td>\n",
       "      <td>29461.5</td>\n",
       "      <td>39312.75</td>\n",
       "      <td>67392.0</td>\n",
       "    </tr>\n",
       "  </tbody>\n",
       "</table>\n",
       "</div>"
      ],
      "text/plain": [
       "              count          mean           std     min      25%      50%  \\\n",
       "TLIST(A1)     504.0   2016.500000      3.455482  2011.0  2013.75   2016.5   \n",
       "Year          504.0   2016.500000      3.455482  2011.0  2013.75   2016.5   \n",
       "C02199V02655  504.0      1.500000      0.500497     1.0     1.00      1.5   \n",
       "C02076V02508  504.0    435.000000     88.283836   310.0   320.00    445.0   \n",
       "VALUE         504.0  24342.586706  19515.499556    44.8    51.10  29461.5   \n",
       "\n",
       "                   75%      max  \n",
       "TLIST(A1)      2019.25   2022.0  \n",
       "Year           2019.25   2022.0  \n",
       "C02199V02655      2.00      2.0  \n",
       "C02076V02508    520.00    560.0  \n",
       "VALUE         39312.75  67392.0  "
      ]
     },
     "execution_count": 36,
     "metadata": {},
     "output_type": "execute_result"
    }
   ],
   "source": [
    "df.describe().T"
   ]
  },
  {
   "cell_type": "code",
   "execution_count": 39,
   "id": "c3123a3d-375c-43fa-b0c1-2cfba5045af9",
   "metadata": {},
   "outputs": [
    {
     "data": {
      "text/plain": [
       "array(['Mean Annual Earnings', 'Median Annual Earnings',\n",
       "       'Percentage of Employments'], dtype=object)"
      ]
     },
     "execution_count": 39,
     "metadata": {},
     "output_type": "execute_result"
    }
   ],
   "source": [
    "df['Statistic Label'].unique()"
   ]
  },
  {
   "cell_type": "code",
   "execution_count": 40,
   "id": "4584cd5d-717f-45d9-986a-a1498efb8d08",
   "metadata": {},
   "outputs": [
    {
     "data": {
      "text/plain": [
       "array(['Male', 'Female'], dtype=object)"
      ]
     },
     "execution_count": 40,
     "metadata": {},
     "output_type": "execute_result"
    }
   ],
   "source": [
    "df['Sex'].unique()"
   ]
  },
  {
   "cell_type": "code",
   "execution_count": 41,
   "id": "bfd6dcc6-6186-4bbf-9c95-dcbdcffebafe",
   "metadata": {},
   "outputs": [
    {
     "data": {
      "text/plain": [
       "array(['15 - 24 years', '15 years and over', '25 - 29 years',\n",
       "       '30 - 39 years', '40 - 49 years', '50 - 59 years',\n",
       "       '60 years and over'], dtype=object)"
      ]
     },
     "execution_count": 41,
     "metadata": {},
     "output_type": "execute_result"
    }
   ],
   "source": [
    "df['Age Group'].unique()"
   ]
  },
  {
   "cell_type": "code",
   "execution_count": null,
   "id": "7b490353-e4d8-4dc2-add9-e53ed589034d",
   "metadata": {},
   "outputs": [],
   "source": []
  }
 ],
 "metadata": {
  "kernelspec": {
   "display_name": "Python 3 (ipykernel)",
   "language": "python",
   "name": "python3"
  },
  "language_info": {
   "codemirror_mode": {
    "name": "ipython",
    "version": 3
   },
   "file_extension": ".py",
   "mimetype": "text/x-python",
   "name": "python",
   "nbconvert_exporter": "python",
   "pygments_lexer": "ipython3",
   "version": "3.12.1"
  }
 },
 "nbformat": 4,
 "nbformat_minor": 5
}
